{
 "cells": [
  {
   "cell_type": "code",
   "execution_count": 24,
   "metadata": {},
   "outputs": [],
   "source": [
    "#QUESTION---1"
   ]
  },
  {
   "cell_type": "code",
   "execution_count": 7,
   "metadata": {},
   "outputs": [
    {
     "name": "stdout",
     "output_type": "stream",
     "text": [
      "Bangalore\n"
     ]
    },
    {
     "data": {
      "image/png": "[encoded data removed]",
      "text/plain": [
       "<Figure size 432x288 with 1 Axes>"
      ]
     },
     "metadata": {
      "needs_background": "light"
     },
     "output_type": "display_data"
    }
   ],
   "source": [
    "import pandas as pd\n",
    "import matplotlib.pyplot as plt\n",
    "startup = pd.read_csv(\"startup_funding.csv\")  #reading data from startup_funding.csv file\n",
    "df = startup.copy()  #creating a copy of startup dataframe...\n",
    "\n",
    "df.dropna(subset = [\"CityLocation\"],inplace = True)  #removing row's having nan's in city location column\n",
    "df[\"CityLocation\"].replace(\"bangalore\",\"Bangalore\",inplace = True)  #replacing the wrong word with the correct one..\n",
    "df[\"CityLocation\"].replace(\"Delhi\",\"New Delhi\",inplace = True)\n",
    "\n",
    "d1 = {}   #dictionary to maintain the number of fundings in the provided locations...\n",
    "\n",
    "for i in df[\"CityLocation\"]: #traversing through all the locations and maintaining the number of times the provided locations fetched...using if else..\n",
    "    if \"Bangalore\" in i:\n",
    "        d1[\"Bangalore\"] = d1.get(\"Bangalore\",0) + 1  \n",
    "    elif \"Mumbai\" in i:\n",
    "        d1[\"Mumbai\"] = d1.get(\"Mumbai\",0) + 1\n",
    "    elif \"New Delhi\" in i:\n",
    "        d1[\"New Delhi\"] = d1.get(\"New Delhi\",0) + 1\n",
    "    elif \"Noida\" in i:\n",
    "        d1[\"Noida\"] = d1.get(\"Noida\",0) + 1\n",
    "    elif \"Gurgaon\" in i:\n",
    "        d1[\"Gurgaon\"] = d1.get(\"Gurgaon\",0) + 1\n",
    "        \n",
    "cities = sorted(d1, key=d1.get , reverse=True)   #sorting the keys in reverse order(descending to aescending) according to the values...\n",
    "fundings = []  \n",
    "\n",
    "for i in cities:  #traversing through the cities...and created a new list of values...in sorted format \n",
    "    fundings.append(d1[i])\n",
    "    \n",
    "print(cities[0]) #printing the location having most number of fundings\n",
    "\n",
    "plt.bar(cities,fundings,width = 0.5,color = \"red\" , edgecolor = \"yellow\")  #ploting the bar graph....cities vs no of fundings..\n",
    "plt.xlabel(\"Locations\")   #labeling x-axis\n",
    "plt.ylabel(\"Number of Fundings\")  #labeling y_axis\n",
    "plt.xticks(rotation = 40) #rotating names in x-axis\n",
    "plt.show()"
   ]
  },
  {
   "cell_type": "code",
   "execution_count": 16,
   "metadata": {},
   "outputs": [],
   "source": [
    "#question---2"
   ]
  },
  {
   "cell_type": "code",
   "execution_count": 3,
   "metadata": {},
   "outputs": [
    {
     "name": "stdout",
     "output_type": "stream",
     "text": [
      "Sequoia Capital\n",
      "Accel Partners\n",
      "Kalaari Capital\n",
      "SAIF Partners\n",
      "Indian Angel Network\n"
     ]
    }
   ],
   "source": [
    "import pandas as pd\n",
    "import matplotlib.pyplot as plt\n",
    "startup = pd.read_csv(\"startup_funding.csv\")\n",
    "df = startup.copy()\n",
    "\n",
    "df.dropna(subset = [\"InvestorsName\"],inplace = True)  #removing row's having nan's in Investors name column..\n",
    "\n",
    "d = {}                    #creating a dictionary to maintain the number of times the investors name appeared...\n",
    "for i in df[\"InvestorsName\"].values:  #traversing through the investor names..to see the number of times the names appeared..\n",
    "    if \",\" in i:          #if it contains multiple names ..then spliting it ..and traversing through each names separately..\n",
    "        for j in i.strip().split(','):\n",
    "            d[j.strip()] = d.get(j.strip(),0) + 1\n",
    "    else:\n",
    "        d[i.strip()] = d.get(i.strip(),0) + 1\n",
    "d1 = sorted(d, key=d.get , reverse=True)[0:5]    #sorting the keys in reverse order(descending to aescending) according to the values...\n",
    "for i in d1:  #printing the top 5 investors...funded maximum number of times...\n",
    "    print(i)"
   ]
  },
  {
   "cell_type": "code",
   "execution_count": 18,
   "metadata": {},
   "outputs": [],
   "source": [
    "#QUESTION---3"
   ]
  },
  {
   "cell_type": "code",
   "execution_count": 1,
   "metadata": {},
   "outputs": [
    {
     "name": "stdout",
     "output_type": "stream",
     "text": [
      "Sequoia Capital\n",
      "Accel Partners\n",
      "Kalaari Capital\n",
      "Indian Angel Network\n",
      "Blume Ventures\n"
     ]
    }
   ],
   "source": [
    "import pandas as pd\n",
    "import numpy as np\n",
    "import matplotlib.pyplot as plt\n",
    "startup = pd.read_csv(\"startup_funding.csv\")\n",
    "df = startup.copy()\n",
    "\n",
    "df.dropna(subset = [\"StartupName\",\"InvestorsName\"],inplace = True)  #removing row's having nan's in Investors name and startupnames columns..\n",
    "df[\"StartupName\"].replace(\"Flipkart.com\",\"Flipkart\",inplace = True)  #replacing the wrong word with the correct one..\n",
    "df[\"StartupName\"].replace(\"Ola Cabs\",\"Ola\",inplace = True)\n",
    "df[\"StartupName\"].replace(\"Olacabs\",\"Ola\",inplace = True)\n",
    "df[\"StartupName\"].replace(\"Oyorooms\",\"Oyo\",inplace = True)\n",
    "df[\"StartupName\"].replace(\"OyoRooms\",\"Oyo\",inplace = True)\n",
    "df[\"StartupName\"].replace(\"OYO Rooms\",\"Oyo\",inplace = True)\n",
    "df[\"StartupName\"].replace(\"Oyo Rooms\",\"Oyo\",inplace = True)\n",
    "df[\"StartupName\"].replace(\"Paytm Marketplace\",\"Paytm\",inplace = True)\n",
    "\n",
    "#firstly ...created a dictionary ...for each investor names ... maintained a set..means each key(investor's name) having a value set(names of stratup's in which they invested)..\n",
    "#set is taken as a value to avoid count of multiple investment in a single startup by an investor...\n",
    "#in the set ..there are startup names in which investor's had invested...\n",
    "#in case there are multiple investors for a single startup...used split function to split that ..and traversed through each name separately...\n",
    "d = {}\n",
    "for i in df.index:\n",
    "    e = df[\"InvestorsName\"][i].strip()\n",
    "    if \",\" in e:\n",
    "        for j in e.strip().split(','):\n",
    "            if j.strip() in d:\n",
    "                d[j.strip()].add(df[\"StartupName\"][i].strip())\n",
    "            else:\n",
    "                s = set()\n",
    "                d[j.strip()] = s\n",
    "                d[j.strip()].add(df[\"StartupName\"][i].strip())\n",
    "    else:\n",
    "        a = e.strip()\n",
    "        if a in d: \n",
    "            d[a].add(df[\"StartupName\"][i].strip())\n",
    "        else:\n",
    "            s = set()\n",
    "            d[a] = s\n",
    "            d[a].add(df[\"StartupName\"][i].strip())\n",
    "            \n",
    "d1 = {}  #created a dictionary where key is investor's name and value is count of startup's in which they had invested..\n",
    "for i in d:\n",
    "    if i == \"\":\n",
    "        continue\n",
    "    d1[i] = len(d[i])\n",
    "    \n",
    "d2 = sorted(d1, key=d1.get , reverse=True)[0:5]  #sorting the keys according to there values in descending order..and taking the top 5 investor's among all..\n",
    "for i in d2:\n",
    "    print(i)"
   ]
  },
  {
   "cell_type": "code",
   "execution_count": 20,
   "metadata": {},
   "outputs": [],
   "source": [
    "#QUESTION---4"
   ]
  },
  {
   "cell_type": "code",
   "execution_count": 1,
   "metadata": {},
   "outputs": [
    {
     "name": "stdout",
     "output_type": "stream",
     "text": [
      "Indian Angel Network\n",
      "Rajan Anandan\n",
      "LetsVenture\n",
      "Anupam Mittal\n",
      "Kunal Shah\n"
     ]
    }
   ],
   "source": [
    "import pandas as pd\n",
    "import numpy as np\n",
    "import matplotlib.pyplot as plt\n",
    "startup = pd.read_csv(\"startup_funding.csv\")\n",
    "df = startup.copy()\n",
    "df.dropna(subset = [\"InvestorsName\"],inplace = True) #removing row's having nan's in Investors name column..\n",
    "df[\"InvestorsName\"].replace(\"Undisclosed Investors\",\"\",inplace = True) #replacing the undisclosed investors name by null values ..\n",
    "df[\"InvestorsName\"].replace(\"Undisclosed investors\",\"\",inplace = True)\n",
    "df = df[(df[\"InvestmentType\"] == \"Seed Funding\") | (df[\"InvestmentType\"] == \"Crowd Funding\")]  #keeping only those rows having investment type seed funding and crowd funding..\n",
    "\n",
    "d = {}  #creating a dictionary to maintain the number of times the investors name appeared...\n",
    "for i in df[\"InvestorsName\"].values:  #traversing through the investor names..to see the number of times the names appeared..\n",
    "    if \",\" in i:  #if it contains multiple names ..then spliting it ..and traversing through each names separately..\n",
    "        for j in i.strip().split(','):\n",
    "            d[j.strip()] = d.get(j.strip(),0) + 1\n",
    "    else:\n",
    "        d[i.strip()] = d.get(i.strip(),0) + 1\n",
    "        \n",
    "del d[\"\"] #deleting the NULL key from dictionary\n",
    "\n",
    "d1 = sorted(d, key=d.get , reverse=True)[0:5]  #sorting the keys according to there values in descending order..and taking the top 5 investor's among all..\n",
    "for i in d1:\n",
    "    print(i)"
   ]
  },
  {
   "cell_type": "code",
   "execution_count": 22,
   "metadata": {},
   "outputs": [],
   "source": [
    "#QUESTION---5"
   ]
  },
  {
   "cell_type": "code",
   "execution_count": 7,
   "metadata": {},
   "outputs": [
    {
     "name": "stdout",
     "output_type": "stream",
     "text": [
      "Sequoia Capital\n",
      "Accel Partners\n",
      "Kalaari Capital\n",
      "SAIF Partners\n",
      "Blume Ventures\n"
     ]
    }
   ],
   "source": [
    "import pandas as pd\n",
    "import numpy as np\n",
    "import matplotlib.pyplot as plt\n",
    "startup = pd.read_csv(\"startup_funding.csv\")\n",
    "df = startup.copy()\n",
    "df.dropna(subset = [\"InvestorsName\"],inplace = True)  #removing row's having nan's in Investors name column..\n",
    "df['StartupName'] = df['StartupName'].str.replace('Olacabs','Ola')\n",
    "df['StartupName'] = df['StartupName'].str.replace('Ola Cabs','Ola')\n",
    "df['StartupName'] = df['StartupName'].str.replace('Oyo Rooms','Oyo')\n",
    "df['StartupName'] = df['StartupName'].str.replace('OyoRooms','Oyo')\n",
    "df['StartupName'] = df['StartupName'].str.replace('Oyorooms','Oyo')\n",
    "df['StartupName'] = df['StartupName'].str.replace('OYO Rooms','Oyo')\n",
    "df['StartupName'] = df['StartupName'].str.replace('Flipkart.com','Flipkart')\n",
    "df['StartupName'] = df['StartupName'].str.replace('Paytm Marketplace','Paytm')\n",
    "df['InvestmentType'] = df['InvestmentType'].str.replace('PrivateEquity','PrivateEquity')\n",
    "df['InvestmentType'] = df['InvestmentType'].str.replace('SeedFunding','SeedFunding')\n",
    "df['InvestmentType'] = df['InvestmentType'].str.replace('Crowd funding','CrowdFunding')\n",
    "df[\"InvestorsName\"].replace(\"Undisclosed Investors\",\"\",inplace = True)  #replacing the undisclosed investors name by null values ..\n",
    "df[\"InvestorsName\"].replace(\"Undisclosed investors\",\"\",inplace = True)\n",
    "df = df[(df[\"InvestmentType\"] == \"Private Equity\")]  #keeping only those rows having investment type private equity..\n",
    "\n",
    "d = {}  #creating a dictionary to maintain the number of times the investors name appeared...\n",
    "for i in df[\"InvestorsName\"].values:  #traversing through the investor names..to see the number of times the names appeared..\n",
    "    if \",\" in i:  #if it contains multiple names ..then spliting it ..and traversing through each names separately..\n",
    "        for j in i.strip().split(','):\n",
    "            d[j.strip()] = d.get(j.strip(),0) + 1\n",
    "    else:\n",
    "        d[i.strip()] = d.get(i.strip(),0) + 1\n",
    "        \n",
    "del d[\"\"] #deleting the NULL key from dictionary\n",
    "\n",
    "d1 = sorted(d, key=d.get , reverse=True)[0:5]  #sorting the keys according to there values in descending order..and taking the top 5 investor's among all..\n",
    "for i in d1:\n",
    "    print(i)"
   ]
  },
  {
   "cell_type": "code",
   "execution_count": 8,
   "metadata": {},
   "outputs": [
    {
     "name": "stdout",
     "output_type": "stream",
     "text": [
      "Indian Angel Network\n",
      "Rajan Anandan\n",
      "LetsVenture\n",
      "Anupam Mittal\n",
      "Kunal Shah\n"
     ]
    }
   ],
   "source": [
    "\n",
    "import pandas as pd\n",
    "import numpy as np\n",
    "import matplotlib.pyplot as plt\n",
    "startup = pd.read_csv(\"startup_funding.csv\")\n",
    "df = startup.copy()\n",
    "df.dropna(subset = [\"InvestorsName\"],inplace = True) #removing row's having nan's in Investors name column\n",
    "df[\"InvestorsName\"].replace(\"Undisclosed Investors\",\"\",inplace = True) #replacing the undisclosed investors name by null values \n",
    "df[\"InvestorsName\"].replace(\"Undisclosed investors\",\"\",inplace = True)\n",
    "df['StartupName'] = df['StartupName'].str.replace('Olacabs','Ola')\n",
    "df['StartupName'] = df['StartupName'].str.replace('Ola Cabs','Ola')\n",
    "df['StartupName'] = df['StartupName'].str.replace('Oyo Rooms','Oyo')\n",
    "df['StartupName'] = df['StartupName'].str.replace('OyoRooms','Oyo')\n",
    "df['StartupName'] = df['StartupName'].str.replace('Oyorooms','Oyo')\n",
    "df['StartupName'] = df['StartupName'].str.replace('OYO Rooms','Oyo')\n",
    "df['StartupName'] = df['StartupName'].str.replace('Flipkart.com','Flipkart')\n",
    "df['StartupName'] = df['StartupName'].str.replace('Paytm Marketplace','Paytm')\n",
    "df['InvestmentType'] = df['InvestmentType'].str.replace('PrivateEquity','PrivateEquity')\n",
    "df['InvestmentType'] = df['InvestmentType'].str.replace('SeedFunding','SeedFunding')\n",
    "df = df[(df[\"InvestmentType\"] == \"Seed Funding\") | (df[\"InvestmentType\"] == \"Crowd Funding\")]  #keeping only those rows having investment type seed funding and crowd funding\n",
    "d = {}  #creating a dictionary to maintain the number of times the investors name appeared\n",
    "for i in df[\"InvestorsName\"].values:  #traversing through the investor names to see the number of times the names appeared\n",
    "    if \",\" in i:  #if it contains multiple names then spliting it and traversing through each names separately\n",
    "        for j in i.strip().split(','):\n",
    "            d[j.strip()] = d.get(j.strip(),0) + 1\n",
    "    else:\n",
    "        d[i.strip()] = d.get(i.strip(),0) + 1\n",
    "        \n",
    "del d[\"\"] #deleting the NULL key from dictionary\n",
    "\n",
    "d1 = sorted(d, key=d.get , reverse=True)[0:5]  #sorting the keys according to there values in descending order and taking the top 5 investor's among all\n",
    "for i in d1:\n",
    "    print(i)"
   ]
  },
  {
   "cell_type": "code",
   "execution_count": null,
   "metadata": {},
   "outputs": [],
   "source": []
  }
 ],
 "metadata": {
  "kernelspec": {
   "display_name": "Python 3",
   "language": "python",
   "name": "python3"
  },
  "language_info": {
   "codemirror_mode": {
    "name": "ipython",
    "version": 3
   },
   "file_extension": ".py",
   "mimetype": "text/x-python",
   "name": "python",
   "nbconvert_exporter": "python",
   "pygments_lexer": "ipython3",
   "version": "3.8.2"
  }
 },
 "nbformat": 4,
 "nbformat_minor": 4
}
